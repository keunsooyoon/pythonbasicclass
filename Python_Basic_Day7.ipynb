{
  "nbformat": 4,
  "nbformat_minor": 0,
  "metadata": {
    "colab": {
      "name": "Python Basic Day7.ipynb",
      "provenance": [],
      "authorship_tag": "ABX9TyNzlG4Q2+35L+WwbUIXtP9r",
      "include_colab_link": true
    },
    "kernelspec": {
      "name": "python3",
      "display_name": "Python 3"
    },
    "language_info": {
      "name": "python"
    }
  },
  "cells": [
    {
      "cell_type": "markdown",
      "metadata": {
        "id": "view-in-github",
        "colab_type": "text"
      },
      "source": [
        "<a href=\"https://colab.research.google.com/github/keunsooyoon/pythonbasicclass/blob/main/Python_Basic_Day7.ipynb\" target=\"_parent\"><img src=\"https://colab.research.google.com/assets/colab-badge.svg\" alt=\"Open In Colab\"/></a>"
      ]
    },
    {
      "cell_type": "code",
      "execution_count": 1,
      "metadata": {
        "colab": {
          "base_uri": "https://localhost:8080/",
          "height": 35
        },
        "id": "iwar9OIXGL_E",
        "outputId": "b64a6f65-5d4e-41c4-e523-7c23ba22f97b"
      },
      "outputs": [
        {
          "output_type": "execute_result",
          "data": {
            "application/vnd.google.colaboratory.intrinsic+json": {
              "type": "string"
            },
            "text/plain": [
              "'0'"
            ]
          },
          "metadata": {},
          "execution_count": 1
        }
      ],
      "source": [
        "chr(48)"
      ]
    },
    {
      "cell_type": "code",
      "source": [
        "chr(65)"
      ],
      "metadata": {
        "colab": {
          "base_uri": "https://localhost:8080/",
          "height": 35
        },
        "id": "CidaGX6cHHQX",
        "outputId": "33b22b74-51da-4ea6-fe4b-0e97d3922c33"
      },
      "execution_count": 2,
      "outputs": [
        {
          "output_type": "execute_result",
          "data": {
            "application/vnd.google.colaboratory.intrinsic+json": {
              "type": "string"
            },
            "text/plain": [
              "'A'"
            ]
          },
          "metadata": {},
          "execution_count": 2
        }
      ]
    },
    {
      "cell_type": "code",
      "source": [
        ""
      ],
      "metadata": {
        "id": "TQjW9BITH-LM"
      },
      "execution_count": null,
      "outputs": []
    },
    {
      "cell_type": "code",
      "source": [
        ""
      ],
      "metadata": {
        "id": "8Fk7uzueH-RE"
      },
      "execution_count": null,
      "outputs": []
    },
    {
      "cell_type": "code",
      "source": [
        "ord('A')"
      ],
      "metadata": {
        "colab": {
          "base_uri": "https://localhost:8080/"
        },
        "id": "xs5SK5m2HW_U",
        "outputId": "2059e7da-c4af-4b5b-fc66-df24d7a4ca02"
      },
      "execution_count": 3,
      "outputs": [
        {
          "output_type": "execute_result",
          "data": {
            "text/plain": [
              "65"
            ]
          },
          "metadata": {},
          "execution_count": 3
        }
      ]
    },
    {
      "cell_type": "code",
      "source": [
        "for item in enumerate(['가위','바위','보']):\n",
        "  print(item)"
      ],
      "metadata": {
        "colab": {
          "base_uri": "https://localhost:8080/"
        },
        "id": "h5XmL6HqH-s1",
        "outputId": "39de7f76-ab97-41d3-ae1a-5e4ac212d36c"
      },
      "execution_count": 4,
      "outputs": [
        {
          "output_type": "stream",
          "name": "stdout",
          "text": [
            "(0, '가위')\n",
            "(1, '바위')\n",
            "(2, '보')\n"
          ]
        }
      ]
    },
    {
      "cell_type": "code",
      "source": [
        "for idx, item in enumerate(['가위','바위','보']):\n",
        "  print(idx+1, item)"
      ],
      "metadata": {
        "colab": {
          "base_uri": "https://localhost:8080/"
        },
        "id": "0bcXsQJJIdUj",
        "outputId": "8b6433e8-2a02-4c20-f2fe-466aba08ebcb"
      },
      "execution_count": 6,
      "outputs": [
        {
          "output_type": "stream",
          "name": "stdout",
          "text": [
            "1 가위\n",
            "2 바위\n",
            "3 보\n"
          ]
        }
      ]
    },
    {
      "cell_type": "code",
      "source": [
        "# page 164 Method\n",
        "\n",
        "name = input('이름을 입력하세요 >>> ')\n",
        "\n",
        "list = []\n",
        "\n",
        "list.append(name)\n",
        "\n",
        "print(list)"
      ],
      "metadata": {
        "colab": {
          "base_uri": "https://localhost:8080/"
        },
        "id": "8lRDEMJPJimX",
        "outputId": "7ceea902-c384-4190-8144-cafe32e20517"
      },
      "execution_count": 7,
      "outputs": [
        {
          "output_type": "stream",
          "name": "stdout",
          "text": [
            "이름을 입력하세요 >>> Austin\n",
            "['Austin']\n"
          ]
        }
      ]
    },
    {
      "cell_type": "code",
      "source": [
        "s = '내가 그린 기린 그림은 목 긴 기린 그림이과, 네가 그린 기린 그림은 목짧은 기린 그림이다.'\n",
        "s.count('기린')"
      ],
      "metadata": {
        "colab": {
          "base_uri": "https://localhost:8080/"
        },
        "id": "2Z8Za-CtKL2q",
        "outputId": "ee8e4d1f-484e-4722-9254-64a845b55e46"
      },
      "execution_count": 8,
      "outputs": [
        {
          "output_type": "execute_result",
          "data": {
            "text/plain": [
              "4"
            ]
          },
          "metadata": {},
          "execution_count": 8
        }
      ]
    },
    {
      "cell_type": "code",
      "source": [
        "s = 'best of best'\n",
        "s.count('best', 5)"
      ],
      "metadata": {
        "colab": {
          "base_uri": "https://localhost:8080/"
        },
        "id": "37oRbvwJKjVV",
        "outputId": "6d75e9c7-dc48-4982-9b18-96fbaf8a19e7"
      },
      "execution_count": 10,
      "outputs": [
        {
          "output_type": "execute_result",
          "data": {
            "text/plain": [
              "1"
            ]
          },
          "metadata": {},
          "execution_count": 10
        }
      ]
    },
    {
      "cell_type": "code",
      "source": [
        "s = 'Life is to short'\n",
        "\n",
        "s.split()"
      ],
      "metadata": {
        "colab": {
          "base_uri": "https://localhost:8080/"
        },
        "id": "JuPT-e2tLekz",
        "outputId": "9b1e2b2d-fed5-4be9-de3b-6cd47e1c6979"
      },
      "execution_count": 11,
      "outputs": [
        {
          "output_type": "execute_result",
          "data": {
            "text/plain": [
              "['Life', 'is', 'to', 'short']"
            ]
          },
          "metadata": {},
          "execution_count": 11
        }
      ]
    },
    {
      "cell_type": "code",
      "source": [
        "s = '010-1234-5678'\n",
        "\n",
        "s.split('-')"
      ],
      "metadata": {
        "colab": {
          "base_uri": "https://localhost:8080/"
        },
        "id": "Zg9vtpo-Lo2j",
        "outputId": "92af6aed-3f5e-423f-da59-bb64962138e2"
      },
      "execution_count": 12,
      "outputs": [
        {
          "output_type": "execute_result",
          "data": {
            "text/plain": [
              "['010', '1234', '5678']"
            ]
          },
          "metadata": {},
          "execution_count": 12
        }
      ]
    },
    {
      "cell_type": "code",
      "source": [
        "s = '제임스,25,남,서울'\n",
        "s.split(',')"
      ],
      "metadata": {
        "colab": {
          "base_uri": "https://localhost:8080/"
        },
        "id": "Mgh91VnvLy7L",
        "outputId": "a14ace90-0eee-4b6a-f8fa-0a6658e9d540"
      },
      "execution_count": 13,
      "outputs": [
        {
          "output_type": "execute_result",
          "data": {
            "text/plain": [
              "['제임스', '25', '남', '서울']"
            ]
          },
          "metadata": {},
          "execution_count": 13
        }
      ]
    },
    {
      "cell_type": "code",
      "source": [
        "ques = input('이름과 나이를 함께 입력하세요(예 : 홍길동 26')\n",
        "ques.split()"
      ],
      "metadata": {
        "colab": {
          "base_uri": "https://localhost:8080/"
        },
        "id": "w2bLLbRsL7Os",
        "outputId": "19e73945-7021-4dd7-ea8c-3c79b11bd6f1"
      },
      "execution_count": 14,
      "outputs": [
        {
          "name": "stdout",
          "output_type": "stream",
          "text": [
            "이름과 나이를 함께 입력하세요(예 : 홍길동 26홍길동 26\n"
          ]
        },
        {
          "output_type": "execute_result",
          "data": {
            "text/plain": [
              "['홍길동', '26']"
            ]
          },
          "metadata": {},
          "execution_count": 14
        }
      ]
    },
    {
      "cell_type": "code",
      "source": [
        "# 사용자 정의 함수 - 사용자가 직접 만든 함수.\n",
        "\n",
        "# 입력 input\n",
        "# 출력 output\n",
        "\n",
        "# 1. 입력이 있고 리턴이 있는 함수\n",
        "# 2. 입력이 있고 리턴은 없는 함수\n",
        "# 3. 입력이 없고 리턴은 있는 함수\n",
        "# 4. 입력도 없고 리턴도 없는 함수\n",
        "\n",
        "\n",
        "            # def 함수이름(매개변수):\n",
        "            #   본문\n",
        "            #   return 반환값\n",
        "\n"
      ],
      "metadata": {
        "id": "KNioASzBNSxQ"
      },
      "execution_count": 15,
      "outputs": []
    },
    {
      "cell_type": "code",
      "source": [
        "#  입력도 없고 리턴도 없는 함수\n",
        "def welcome():\n",
        "  print('Hello python')\n",
        "  print('Nice to meet you')\n",
        "\n",
        "welcome()  "
      ],
      "metadata": {
        "colab": {
          "base_uri": "https://localhost:8080/"
        },
        "id": "4Bd7Zq3ENyC-",
        "outputId": "4b7085ad-60e4-4649-e52a-e0112ed15080"
      },
      "execution_count": 19,
      "outputs": [
        {
          "output_type": "stream",
          "name": "stdout",
          "text": [
            "Hello python\n",
            "Nice to meet you\n"
          ]
        }
      ]
    },
    {
      "cell_type": "code",
      "source": [
        "# 입력이 있고 리턴은 없는 함수\n",
        "\n",
        "def introduce(name, age):\n",
        "  print(f'내 이름은 {name}이고, 나이는 {age}입니다.')\n",
        "\n",
        "introduce('james', 25)\n",
        "introduce('andy', 22)"
      ],
      "metadata": {
        "colab": {
          "base_uri": "https://localhost:8080/"
        },
        "id": "7G6CpR7tTRp5",
        "outputId": "ac66d7d6-5ccd-4299-8b4f-d6a12990554a"
      },
      "execution_count": 21,
      "outputs": [
        {
          "output_type": "stream",
          "name": "stdout",
          "text": [
            "내 이름은 james이고, 나이는 25입니다.\n",
            "내 이름은 andy이고, 나이는 22입니다.\n"
          ]
        }
      ]
    },
    {
      "cell_type": "code",
      "source": [
        "def show(*items):\n",
        "  for item in items:\n",
        "    print(item)\n",
        "\n",
        "show('python')\n",
        "show('happy','birthday')"
      ],
      "metadata": {
        "colab": {
          "base_uri": "https://localhost:8080/"
        },
        "id": "VWdHN2OIUHcA",
        "outputId": "640b205b-cf09-4142-a547-e0baec392891"
      },
      "execution_count": 23,
      "outputs": [
        {
          "output_type": "stream",
          "name": "stdout",
          "text": [
            "python\n",
            "happy\n",
            "birthday\n"
          ]
        }
      ]
    },
    {
      "cell_type": "code",
      "source": [
        "# 가변 매개변수 \n",
        "def addsum(*args):\n",
        "  sum = 0\n",
        "  for arg in args:\n",
        "    sum = sum + arg\n",
        "  print(sum)\n",
        "\n",
        "\n",
        "def addsum2(a,b):\n",
        "  print(a+b)\n",
        "\n",
        "def addsum3(a,b,c):\n",
        "  print(a+b+c)\n",
        "\n",
        "addsum(1,2)\n",
        "addsum(1,2,3,4)"
      ],
      "metadata": {
        "colab": {
          "base_uri": "https://localhost:8080/"
        },
        "id": "MX8KXgVAUs4z",
        "outputId": "df77e191-dc77-4a64-c9ed-7f90d954b732"
      },
      "execution_count": 28,
      "outputs": [
        {
          "output_type": "stream",
          "name": "stdout",
          "text": [
            "3\n",
            "10\n"
          ]
        }
      ]
    },
    {
      "cell_type": "code",
      "source": [
        "def greet(message='안녕하세요'):\n",
        "  print(message)\n",
        "\n",
        "greet('반갑습니다.')\n",
        "greet()"
      ],
      "metadata": {
        "colab": {
          "base_uri": "https://localhost:8080/"
        },
        "id": "ymcL46lWWJE2",
        "outputId": "7069bb29-0e0b-4634-e9ee-a935cdd11575"
      },
      "execution_count": 29,
      "outputs": [
        {
          "output_type": "stream",
          "name": "stdout",
          "text": [
            "반갑습니다.\n",
            "안녕하세요\n"
          ]
        }
      ]
    },
    {
      "cell_type": "code",
      "source": [
        "# 디폴트 매개변수는 마지막에 위치시킨다. \n",
        "\n",
        "# def greet(message='안녕하세요', name):\n",
        "#   print(f'{name}님 {message}')\n",
        "\n",
        "def greet(name, message='안녕하세요'):\n",
        "  print(f'{name}님 {message}')\n",
        "\n",
        "greet('김철수')"
      ],
      "metadata": {
        "colab": {
          "base_uri": "https://localhost:8080/"
        },
        "id": "l2J7R7bbWi3w",
        "outputId": "45f3a7c2-36a8-4596-a455-f6660c0ac659"
      },
      "execution_count": 31,
      "outputs": [
        {
          "output_type": "stream",
          "name": "stdout",
          "text": [
            "김철수님 안녕하세요\n"
          ]
        }
      ]
    },
    {
      "cell_type": "code",
      "source": [
        "# 입력이 없고 리턴이 있는 함수\n",
        "\n",
        "def address():\n",
        "  str = '우편번호 12345\\n'\n",
        "  str += '서울시 영등포구 여의도동'\n",
        "  return str\n",
        "\n",
        "print(address())"
      ],
      "metadata": {
        "colab": {
          "base_uri": "https://localhost:8080/"
        },
        "id": "YtKLKe_TXNrv",
        "outputId": "c7b7f1cf-6d21-46f4-823b-20f29970d9a3"
      },
      "execution_count": 33,
      "outputs": [
        {
          "output_type": "stream",
          "name": "stdout",
          "text": [
            "우편번호 12345\n",
            "서울시 영등포구 여의도동\n"
          ]
        }
      ]
    },
    {
      "cell_type": "code",
      "source": [
        "def address():\n",
        "  str = '우편번호 12345\\n'\n",
        "  str += '서울시 영등포구 여의도동'\n",
        "  print(str)\n",
        "\n",
        "address()"
      ],
      "metadata": {
        "colab": {
          "base_uri": "https://localhost:8080/"
        },
        "id": "MXmtMJzXXyAk",
        "outputId": "bd45c683-668d-4e5e-ccd9-b30809135cb0"
      },
      "execution_count": 35,
      "outputs": [
        {
          "output_type": "stream",
          "name": "stdout",
          "text": [
            "우편번호 12345\n",
            "서울시 영등포구 여의도동\n"
          ]
        }
      ]
    },
    {
      "cell_type": "code",
      "source": [
        "def calculator(*args):\n",
        "  return sum(args), sum(args)/len(args), max(args), min(args)\n",
        "\n",
        "a,b,c,d = calculator(1,2,3,4,5)\n",
        "print(a)\n",
        "print(b)\n",
        "print(c)\n",
        "print(d)"
      ],
      "metadata": {
        "colab": {
          "base_uri": "https://localhost:8080/"
        },
        "id": "BfYzER23YpuG",
        "outputId": "879707ff-bf05-41c5-880f-9bc6a4af34d6"
      },
      "execution_count": 37,
      "outputs": [
        {
          "output_type": "stream",
          "name": "stdout",
          "text": [
            "15\n",
            "3.0\n",
            "5\n",
            "1\n"
          ]
        }
      ]
    },
    {
      "cell_type": "code",
      "source": [
        "def charge(energy):\n",
        "  if energy < 0:\n",
        "    print('0보다 작은 에너지는 충전할 수 없습니다.')\n",
        "    return\n",
        "  print('에너지가 충전되었습니다.')\n",
        "\n",
        "charge(-1)"
      ],
      "metadata": {
        "colab": {
          "base_uri": "https://localhost:8080/"
        },
        "id": "-E1JZtXOYp5Z",
        "outputId": "a817e862-9a5f-44a3-9021-eefaf4fd8f3c"
      },
      "execution_count": 39,
      "outputs": [
        {
          "output_type": "stream",
          "name": "stdout",
          "text": [
            "0보다 작은 에너지는 충전할 수 없습니다.\n"
          ]
        }
      ]
    },
    {
      "cell_type": "code",
      "source": [
        "# local variable & global variable\n",
        "\n",
        "# local variable 지역 변수\n",
        "\n",
        "def f():\n",
        "  a = 10\n",
        "  print(f'내부 : {a}')\n",
        "\n",
        "f()\n",
        "\n",
        "print(f'외부 : {a}')\n"
      ],
      "metadata": {
        "colab": {
          "base_uri": "https://localhost:8080/"
        },
        "id": "uWldHwTPbUhv",
        "outputId": "7224409c-1ca5-48a1-d948-ccfbcdc434f3"
      },
      "execution_count": 42,
      "outputs": [
        {
          "output_type": "stream",
          "name": "stdout",
          "text": [
            "내부 : 10\n",
            "외부 :15\n"
          ]
        }
      ]
    },
    {
      "cell_type": "code",
      "source": [
        "# global variable  전역 변수\n",
        "\n",
        "b = 10\n",
        "\n",
        "def f():\n",
        "  print(f'내부 : {b}')\n",
        "\n",
        "f()\n",
        "\n",
        "print(f'내부 : {b}')"
      ],
      "metadata": {
        "colab": {
          "base_uri": "https://localhost:8080/"
        },
        "id": "BvrW_v96ctqM",
        "outputId": "8f76e1ca-463a-4e83-b464-28c22062bf69"
      },
      "execution_count": 44,
      "outputs": [
        {
          "output_type": "stream",
          "name": "stdout",
          "text": [
            "내부 : 10\n",
            "내부 : 10\n"
          ]
        }
      ]
    },
    {
      "cell_type": "code",
      "source": [
        "\n",
        "def f():\n",
        "  global a\n",
        "  a = 10\n",
        "  print(a)\n",
        "  \n",
        "f()\n",
        "\n",
        "print(a)"
      ],
      "metadata": {
        "colab": {
          "base_uri": "https://localhost:8080/"
        },
        "id": "PXunaXkOdjZ4",
        "outputId": "7af63ccc-20cd-46e8-a06c-648f6b356b54"
      },
      "execution_count": 47,
      "outputs": [
        {
          "output_type": "stream",
          "name": "stdout",
          "text": [
            "10\n",
            "10\n"
          ]
        }
      ]
    },
    {
      "cell_type": "code",
      "source": [
        "# 1\n",
        "\n",
        "def vending_machine(money):\n",
        "  price = 700  # 700, 1400, 2100, 2800\n",
        "\n",
        "  for i in range((money // price)+1):\n",
        "    coin = money - price * i\n",
        "    print(f'음료수 = {i}개, 잔돈 = {coin}원')\n",
        "\n",
        "vending_machine(3000)"
      ],
      "metadata": {
        "colab": {
          "base_uri": "https://localhost:8080/"
        },
        "id": "RzBTHHn7gODD",
        "outputId": "991580b3-cda2-4d60-836c-279c5de5d240"
      },
      "execution_count": 50,
      "outputs": [
        {
          "output_type": "stream",
          "name": "stdout",
          "text": [
            "음료수 = 0개, 잔돈 = 3000원\n",
            "음료수 = 1개, 잔돈 = 2300원\n",
            "음료수 = 2개, 잔돈 = 1600원\n",
            "음료수 = 3개, 잔돈 = 900원\n",
            "음료수 = 4개, 잔돈 = 200원\n"
          ]
        }
      ]
    },
    {
      "cell_type": "code",
      "source": [
        "# 2 \n",
        "\n",
        "def get_average(marks):\n",
        "  sum = 0\n",
        "  for i in marks:\n",
        "    sum += marks[i]\n",
        "  return sum/len(marks)\n",
        "\n",
        "marks = {'국어':90, '영어':80, '수학':85}\n",
        "average = get_average(marks)\n",
        "print(f'평균은 {average}입니다.')"
      ],
      "metadata": {
        "colab": {
          "base_uri": "https://localhost:8080/"
        },
        "id": "ETTGfBKOjJaC",
        "outputId": "e2b09c23-ee51-4c11-8e4a-ea70cab533dc"
      },
      "execution_count": 53,
      "outputs": [
        {
          "output_type": "stream",
          "name": "stdout",
          "text": [
            "평균은 85.0입니다.\n"
          ]
        }
      ]
    },
    {
      "cell_type": "code",
      "source": [
        "# 3\n",
        "\n",
        "total = 0\n",
        "def gift(dic,who,money):\n",
        "  global total\n",
        "  total += money\n",
        "  dic[who] = money\n",
        "\n",
        "wedding = {}\n",
        "gift(wedding, '영희', 5)\n",
        "gift(wedding, '철수', 3)\n",
        "gift(wedding, '이모', 10)\n",
        "\n",
        "print(f'축의금 명단 : {wedding}')\n",
        "print(f'전체 축의금 : {total}')"
      ],
      "metadata": {
        "colab": {
          "base_uri": "https://localhost:8080/"
        },
        "id": "NZy1mw7llhu5",
        "outputId": "909393cd-5d37-490e-ea04-e776e959dd3c"
      },
      "execution_count": 55,
      "outputs": [
        {
          "output_type": "stream",
          "name": "stdout",
          "text": [
            "축의금 명단 : {'영희': 5, '철수': 3, '이모': 10}\n",
            "전체 축의금 : 18\n"
          ]
        }
      ]
    },
    {
      "cell_type": "code",
      "source": [
        ""
      ],
      "metadata": {
        "id": "3673hfHgoZyN"
      },
      "execution_count": null,
      "outputs": []
    }
  ]
}